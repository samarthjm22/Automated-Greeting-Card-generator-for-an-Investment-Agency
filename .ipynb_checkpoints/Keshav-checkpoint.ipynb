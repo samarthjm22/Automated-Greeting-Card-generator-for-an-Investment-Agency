{
 "cells": [
  {
   "cell_type": "code",
   "execution_count": 5,
   "metadata": {},
   "outputs": [
    {
     "name": "stdout",
     "output_type": "stream",
     "text": [
      "\n"
     ]
    }
   ],
   "source": [
    "import docx\n",
    "doc = docx.Document('trial.docx')\n",
    "print(doc.paragraphs[1].text)"
   ]
  },
  {
   "cell_type": "code",
   "execution_count": 3,
   "metadata": {},
   "outputs": [],
   "source": [
    "from docx import Document\n",
    "\n",
    "document = Document()\n",
    "document.save('test.docx')"
   ]
  },
  {
   "cell_type": "code",
   "execution_count": 8,
   "metadata": {},
   "outputs": [
    {
     "name": "stdout",
     "output_type": "stream",
     "text": [
      "['', '', '', '', '', '', 'MEMORANDUM OF UNDERSTANDING', '(MoU)', '', '', '', 'Between', '', 'Team DotSlash 2018,', 'S V National Institute of Technology, Surat', '', 'And', '', 'POP.', '', '', '', '', '', '', '', '', '', '', '', '', 'The purpose of this memorandum is to specify the agreements of S V National Institute of Technology (SVNIT), Surat and POP for conducting Hackathon “DotSlash 2018”, organized by Research Park, SVNIT, scheduled on 7th-8th April, 2018 at SVNIT Campus.', '\\xa0\\xa0Deliverables from DotSlash 2018:', 'POP logo on DotSlash T-shirts, Official DotSlash website. Social media posts showing POP as an official sponsor of DotSlash.', 'Provision to play POP promo during the event.', 'Social media shout and tag POP in participant pictures with POP goodies', 'A google form to be floated to gather data of participants, whosoever are willing to provide. ', '', '', 'Deliverables from POP:', '3 POP gift hampers for winners of total worth INR 5000/- .', 'Sponsorship amount of INR 8000/- .', 'Promotional Merchandises for the participants.', '', '', 'General Conditions:\\n', 'General rules & regulation of SVNIT, Govt. of Gujarat and Central Govt. will be followed.', 'SVNIT will not be responsible in the event of any unforeseen situation taking place during DotSlash 2018.', '', '', '', '', '', '', '', '', '', '', 'Mode of Sponsorship:', 'POP will sponsor DotSlash by an amount of INR 8,000/-', 'The mode of payment is by cheque dated 4th April 2018.', '', 'Under the contract executed between “DotSlash 2018” and “POP” will conduct the deliverables in the best means possible without fail. Both parties shall maintain their stand as per the MoU and shall be held responsible in case of any compromises.', '', '', 'In written where of parties here have entered in to this agreement as on 2nd April 2018 as written above for hackathon “DotSlash 2018”. ', '', '', '\\n', '']\n"
     ]
    }
   ],
   "source": [
    "filename = 'trial.docx'\n",
    "\n",
    "doc = docx.Document(filename)\n",
    "fullText = []\n",
    "for para in doc.paragraphs:\n",
    "    fullText.append(para.text)\n",
    "#print(fullText)\n",
    "print('\\n'.join(fullText))"
   ]
  },
  {
   "cell_type": "code",
   "execution_count": 13,
   "metadata": {
    "collapsed": true
   },
   "outputs": [],
   "source": [
    "docu = docx.Document()\n",
    "\n",
    "docu.add_paragraph('\\n'.join(fullText[:20]))\n",
    "docu.save('helloworld1.docx')"
   ]
  },
  {
   "cell_type": "code",
   "execution_count": 48,
   "metadata": {},
   "outputs": [
    {
     "name": "stdout",
     "output_type": "stream",
     "text": [
      "Enter Name: Samarth\n",
      "Enter SIP Amount: 1250\n",
      "Enter Date: 22 August\n",
      "Enter year: 1875\n",
      "Enter Final Amount: 27.4 crore\n"
     ]
    }
   ],
   "source": [
    "from docx import Document\n",
    "\n",
    "def replace_string(filename, old, new):\n",
    "    doc = Document(filename)\n",
    "    \n",
    "    for p in doc.paragraphs:\n",
    "        if old in p.text:\n",
    "            inline = p.runs\n",
    "            #print(inline)\n",
    "            # Loop added to work with runs (strings with same style)\n",
    "            for i in range(len(inline)):\n",
    "                if old in inline[i].text:\n",
    "                    text = inline[i].text.replace(old, new)\n",
    "                    inline[i].text = text\n",
    "           # print(p.text)\n",
    "\n",
    "    doc.save('replace.docx')\n",
    "    return\n",
    "\n",
    "\n",
    "InputDoc = 'replace.docx'\n",
    "\n",
    "name = input(\"Enter Name: \")\n",
    "replace_string('draft.docx', '@name',name)\n",
    "sip = input(\"Enter SIP Amount: \")\n",
    "replace_string(InputDoc, '@sip',sip)\n",
    "date = input(\"Enter Date: \")\n",
    "replace_string(InputDoc, '@date',date)\n",
    "year = input(\"Enter year: \")\n",
    "replace_string(InputDoc, '@year',year)\n",
    "amount = input(\"Enter Final Amount: \")\n",
    "replace_string(InputDoc, '@amount',amount)\n"
   ]
  }
 ],
 "metadata": {
  "kernelspec": {
   "display_name": "Python 3",
   "language": "python",
   "name": "python3"
  },
  "language_info": {
   "codemirror_mode": {
    "name": "ipython",
    "version": 3
   },
   "file_extension": ".py",
   "mimetype": "text/x-python",
   "name": "python",
   "nbconvert_exporter": "python",
   "pygments_lexer": "ipython3",
   "version": "3.6.3"
  }
 },
 "nbformat": 4,
 "nbformat_minor": 2
}
