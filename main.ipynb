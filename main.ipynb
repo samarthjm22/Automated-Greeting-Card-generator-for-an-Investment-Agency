{
 "cells": [
  {
   "cell_type": "code",
   "execution_count": 5,
   "metadata": {},
   "outputs": [
    {
     "name": "stdout",
     "output_type": "stream",
     "text": [
      "\n"
     ]
    }
   ],
   "source": [
    "import docx\n",
    "doc = docx.Document('trial.docx')\n",
    "print(doc.paragraphs[1].text)"
   ]
  },
  {
   "cell_type": "code",
   "execution_count": 3,
   "metadata": {
    "collapsed": true
   },
   "outputs": [],
   "source": [
    "from docx import Document\n",
    "\n",
    "document = Document()\n",
    "document.save('test.docx')"
   ]
  },
  {
   "cell_type": "code",
   "execution_count": 11,
   "metadata": {},
   "outputs": [
    {
     "name": "stdout",
     "output_type": "stream",
     "text": [
      " \n"
     ]
    }
   ],
   "source": [
    "import docx\n",
    "filename = 'BdayCard.docx'\n",
    "\n",
    "doc = docx.Document(filename)\n",
    "fullText = []\n",
    "for para in doc.paragraphs:\n",
    "    fullText.append(para.text)\n",
    "    #print(fullText)\n",
    "print('\\n'.join(fullText))"
   ]
  },
  {
   "cell_type": "code",
   "execution_count": 13,
   "metadata": {
    "collapsed": true
   },
   "outputs": [],
   "source": [
    "docu = docx.Document()\n",
    "\n",
    "docu.add_paragraph('\\n'.join(fullText[:20]))\n",
    "docu.save('helloworld1.docx')"
   ]
  },
  {
   "cell_type": "code",
   "execution_count": 48,
   "metadata": {},
   "outputs": [
    {
     "name": "stdout",
     "output_type": "stream",
     "text": [
      "Enter Name: Samarth\n",
      "Enter SIP Amount: 1250\n",
      "Enter Date: 22 August\n",
      "Enter year: 1875\n",
      "Enter Final Amount: 27.4 crore\n"
     ]
    }
   ],
   "source": [
    "from docx import Document\n",
    "\n",
    "def replace_string(filename, old, new):\n",
    "    doc = Document(filename)\n",
    "    \n",
    "    for p in doc.paragraphs:\n",
    "        if old in p.text:\n",
    "            inline = p.runs\n",
    "            #print(inline)\n",
    "            # Loop added to work with runs (strings with same style)\n",
    "            for i in range(len(inline)):\n",
    "                if old in inline[i].text:\n",
    "                    text = inline[i].text.replace(old, new)\n",
    "                    inline[i].text = text\n",
    "           # print(p.text)\n",
    "\n",
    "    doc.save('replace.docx')\n",
    "    return\n",
    "\n",
    "\n",
    "InputDoc = 'replace.docx'\n",
    "\n",
    "name = input(\"Enter Name: \")\n",
    "replace_string('draft.docx', '@name',name)\n",
    "sip = input(\"Enter SIP Amount: \")\n",
    "replace_string(InputDoc, '@sip',sip)\n",
    "date = input(\"Enter Date: \")\n",
    "replace_string(InputDoc, '@date',date)\n",
    "year = input(\"Enter year: \")\n",
    "replace_string(InputDoc, '@year',year)\n",
    "amount = input(\"Enter Final Amount: \")\n",
    "replace_string(InputDoc, '@amount',amount)\n"
   ]
  }
 ],
 "metadata": {
  "kernelspec": {
   "display_name": "Python 3",
   "language": "python",
   "name": "python3"
  },
  "language_info": {
   "codemirror_mode": {
    "name": "ipython",
    "version": 3
   },
   "file_extension": ".py",
   "mimetype": "text/x-python",
   "name": "python",
   "nbconvert_exporter": "python",
   "pygments_lexer": "ipython3",
   "version": "3.6.3"
  }
 },
 "nbformat": 4,
 "nbformat_minor": 2
}
